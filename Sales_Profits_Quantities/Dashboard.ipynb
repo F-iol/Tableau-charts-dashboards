{
 "cells": [
  {
   "cell_type": "markdown",
   "id": "5c743281",
   "metadata": {},
   "source": [
    "### Dashboard for Sales 💵\n",
    "[Dashboard here](https://public.tableau.com/app/profile/daniel.fidyt/viz/Chart1_17481424271210/SalesDashboard?publish=yes)"
   ]
  }
 ],
 "metadata": {
  "language_info": {
   "name": "python"
  }
 },
 "nbformat": 4,
 "nbformat_minor": 5
}
